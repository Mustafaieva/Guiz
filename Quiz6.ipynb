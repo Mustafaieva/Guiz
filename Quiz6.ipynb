{
  "nbformat": 4,
  "nbformat_minor": 0,
  "metadata": {
    "colab": {
      "name": "Untitled26.ipynb",
      "version": "0.3.2",
      "provenance": [],
      "include_colab_link": true
    },
    "kernelspec": {
      "name": "python2",
      "display_name": "Python 2"
    }
  },
  "cells": [
    {
      "cell_type": "markdown",
      "metadata": {
        "id": "view-in-github",
        "colab_type": "text"
      },
      "source": [
        "<a href=\"https://colab.research.google.com/github/Mustafaieva/Quiz/blob/master/Quiz6.ipynb\" target=\"_parent\"><img src=\"https://colab.research.google.com/assets/colab-badge.svg\" alt=\"Open In Colab\"/></a>"
      ]
    },
    {
      "cell_type": "code",
      "metadata": {
        "id": "rPrxeQVraYoQ",
        "colab_type": "code",
        "colab": {}
      },
      "source": [
        "#include <stdio.h>\n",
        "#include <string.h>\n",
        "\n",
        "    struct studs {\n",
        "    char fname[20];\n",
        "    char lname[20];\n",
        "    int clas;\n",
        "    int age;\n",
        "    int vize_point;\n",
        "    int final_point;\n",
        "    float sum;\n",
        "};\n",
        "\n",
        "main() {\n",
        "    struct studs arr[15];\n",
        "\n",
        "    int i=0,n;\n",
        "    char harf;\n",
        "    int j;\n",
        "    printf(\"Enter the number of studs: \");\n",
        "    scanf(\"%d\",&n);\n",
        "    \n",
        "    do {\n",
        "\n",
        "\n",
        "\n",
        "    for (i=0; i<n; i++)\n",
        "    {\n",
        "\n",
        "\n",
        "        printf(\"\\n%d th student: \", i+1);\n",
        "        scanf(\"%s%s\",arr[i].fname,arr[i].lname);\n",
        "        printf(\"Class: \");\n",
        "        scanf(\"%d\", &(arr[i].clas));\n",
        "        printf(\"Age: \");\n",
        "        scanf(\"%d\", &(arr[i].age));\n",
        "        printf(\"Vize point: \");\n",
        "        scanf(\"%d\",&(arr[i].vize_point));\n",
        "        printf(\"Final point: \");\n",
        "        scanf(\"%d\",&(arr[i].final_point));\n",
        "\n",
        "        arr[i].sum=(((float)(arr[i].vize_point)*40)/100)+(((float)(arr[i].final_point)*60)/100);\n",
        "\n",
        "    }\n",
        "\n",
        "    printf(\"\\nBir harf giriniz: \");\n",
        "    scanf(\"%c\", &harf);\n",
        "    getchar();\n",
        "\n",
        "\n",
        "    } while(harf=='E');\n",
        "\n",
        "\n",
        "    for (j=0; j<i; j++)\n",
        "    {\n",
        "     if (arr[j].sum>50)\n",
        "            {\n",
        "                printf(\"%s %s %.2f\", arr[j].fname, arr[j].lname, arr[j].sum);\n",
        "            }\n",
        "    }\n",
        "\n",
        "    return 0;\n",
        "}\n"
      ],
      "execution_count": 0,
      "outputs": []
    },
    {
      "cell_type": "markdown",
      "metadata": {
        "id": "LE8FSXLkabek",
        "colab_type": "text"
      },
      "source": [
        "# Quiz 6.\n",
        "\n",
        "This program to process marks of students and display grades.\n",
        "\n",
        "This code tells the compiler get the number of students:\n",
        "\n",
        "int i=0,n;\n",
        "printf(\"Enter the number of studs: \");\n",
        "scanf(\"%d\",&n);\n",
        "In the above example in the loop get the value of students marks:\n",
        "\n",
        "    printf(\"\\n%d th student: \", i+1);\n",
        "    scanf(\"%s%s\",arr[i].fname,arr[i].lname);\n",
        "    printf(\"Class: \");\n",
        "    scanf(\"%d\", &(arr[i].clas));\n",
        "    printf(\"Age: \");\n",
        "    scanf(\"%d\", &(arr[i].age));\n",
        "    printf(\"Vize point: \");\n",
        "    scanf(\"%d\",&(arr[i].vize_point));\n",
        "    printf(\"Final point: \");\n",
        "    scanf(\"%d\",&(arr[i].final_point));\n",
        "\n",
        "    Counted the sum of student points:\n",
        "arr[i].sum=(((float)(arr[i].vize_point)40)/100)+(((float)(arr[i].final_point)60)/100);\n",
        "\n",
        "The loop ('do') body inside the braces in executed once. Then the test expression is evaluated. If the test exspression in true, the loop body is executed again. This process goes on until the test exspression is evaluated to 'E':\n",
        "\n",
        "do {....}\n",
        "\n",
        "while(letter=='E');\n",
        "\n",
        "Print student information.\n",
        "\n",
        "for (j=0; j<i; j++) { if (arr[j].sum>50) { printf(\"%s %s %.2f\", arr[j].fname, arr[j].lname, arr[j].sum); } }"
      ]
    }
  ]
}