{
  "nbformat": 4,
  "nbformat_minor": 0,
  "metadata": {
    "colab": {
      "name": "Untitled20.ipynb",
      "version": "0.3.2",
      "provenance": [],
      "include_colab_link": true
    },
    "kernelspec": {
      "name": "python2",
      "display_name": "Python 2"
    }
  },
  "cells": [
    {
      "cell_type": "markdown",
      "metadata": {
        "id": "view-in-github",
        "colab_type": "text"
      },
      "source": [
        "<a href=\"https://colab.research.google.com/github/Mustafaieva/Quiz/blob/master/Quiz%204.ipynb\" target=\"_parent\"><img src=\"https://colab.research.google.com/assets/colab-badge.svg\" alt=\"Open In Colab\"/></a>"
      ]
    },
    {
      "metadata": {
        "id": "3_U8LN-Hrh2j",
        "colab_type": "code",
        "colab": {}
      },
      "cell_type": "code",
      "source": [
        "#include <stdio.h>\n",
        "#include <string.h>\n",
        "\n",
        "void main()\n",
        "{\n",
        "    char str[100];\n",
        "    int i;\n",
        "    int j, l;\n",
        "    int tmp;\n",
        "\n",
        "    l=strlen(str);\n",
        "    printf(\"Input the string: \");\n",
        "    fgets(str, sizeof str, stdin);\n",
        "\n",
        "    for (i=0; j=l-1; i<j; i++, j--){\n",
        "\n",
        "\n",
        "                tmp=str[j];\n",
        "                str[j]=str[j+1];\n",
        "                str[j+1]=tmp;\n",
        "        }\n",
        "\n",
        "    printf(\"After sorting the string appears like: \\n\");\n",
        "    printf(\"%s\\n\\n\", str);\n",
        "\n",
        "\n",
        "\n",
        "    return 0;\n",
        "}\n",
        "\n"
      ],
      "execution_count": 0,
      "outputs": []
    },
    {
      "metadata": {
        "id": "gwnlA_H5Es5s",
        "colab_type": "code",
        "colab": {}
      },
      "cell_type": "code",
      "source": [
        ""
      ],
      "execution_count": 0,
      "outputs": []
    },
    {
      "metadata": {
        "id": "38hhY6qiFlhJ",
        "colab_type": "text"
      },
      "cell_type": "markdown",
      "source": [
        "# Quiz 5.\n",
        "This program reverses a string that a user inputs.\n",
        "\n",
        "This code tells the compiler get the length of the string.\n",
        "\n",
        "> l=strlen(str);\n",
        "\n",
        "In the above example we  entered the string:\n",
        "\n",
        "fgets(str, sizeof str, stdin);\n",
        "\n",
        "And in the nest loop the variable 'i' is equal to the beginning, and the variable 'j'' is equal to the end of the line. And then using the variable \"tmp\" we change the words in the string:\n",
        "\n",
        "\n",
        "> for (i=0; j=l-1; i<j; i++, j--){\n",
        "\n",
        "\n",
        "                tmp=str[j];\n",
        "                str[j]=str[j+1];\n",
        "                str[j+1]=tmp;\n",
        "        }\n",
        " The compiler to print out the string after sorting:\n",
        "\n",
        "\n",
        "> printf(\"After sorting the string appears like: \\n\");\n",
        "    printf(\"%s\\n\\n\", str);\n",
        "\n",
        "\n",
        "\n",
        "\n",
        "\n",
        "\n"
      ]
    }
  ]
}