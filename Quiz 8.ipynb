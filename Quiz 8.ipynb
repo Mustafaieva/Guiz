{
  "nbformat": 4,
  "nbformat_minor": 0,
  "metadata": {
    "colab": {
      "name": "Untitled28.ipynb",
      "version": "0.3.2",
      "provenance": [],
      "include_colab_link": true
    },
    "kernelspec": {
      "name": "python3",
      "display_name": "Python 3"
    }
  },
  "cells": [
    {
      "cell_type": "markdown",
      "metadata": {
        "id": "view-in-github",
        "colab_type": "text"
      },
      "source": [
        "<a href=\"https://colab.research.google.com/github/Mustafaieva/Quiz/blob/master/Quiz%208.ipynb\" target=\"_parent\"><img src=\"https://colab.research.google.com/assets/colab-badge.svg\" alt=\"Open In Colab\"/></a>"
      ]
    },
    {
      "cell_type": "code",
      "metadata": {
        "id": "icgrs9qK8pfc",
        "colab_type": "code",
        "colab": {}
      },
      "source": [
        "#include <stdio.h>\n",
        "#include <stdlib.h>\n",
        "\n",
        "int main()\n",
        "{\n",
        "    int *ptr;\n",
        "    int n;\n",
        "    int j;\n",
        "    int i=0;\n",
        "    \n",
        "    ptr=(int*)malloc(1*sizeof(int));\n",
        "\n",
        "    while (1)\n",
        "    {\n",
        "        printf(\"Input the number: \");\n",
        "        scanf(\"%d\", &n);\n",
        "\n",
        "        if (n==0)\n",
        "        {\n",
        "            printf(\"The array is being printed..\\n\\n\");\n",
        "\n",
        "        for (j=0; j<i+1; j++)\n",
        "        {\n",
        "            printf(\" %d \", *(ptr+j));\n",
        "\n",
        "        }break;}\n",
        "\n",
        "         else {\n",
        "\n",
        "            *(ptr+i)=n;\n",
        "    for (j=0; j<i+1; j++)\n",
        "    {\n",
        "        printf(\"  %d  \", *(ptr+j));\n",
        "    }\n",
        "    printf(\"\\n\");\n",
        "        }\n",
        "        i++;\n",
        "    }\n",
        "\n",
        "    return 0;\n",
        "}\n"
      ],
      "execution_count": 0,
      "outputs": []
    },
    {
      "cell_type": "markdown",
      "metadata": {
        "id": "rq7KhS5H892H",
        "colab_type": "text"
      },
      "source": [
        "#Quiz 8.\n",
        "\n",
        "This pointer will hold the base address of the block created :\n",
        "\n",
        ">  int *ptr;\n",
        "\n",
        "First create all variables required in the program:\n",
        "\n",
        ">\n",
        "    int n;\n",
        "    int i=0;\n",
        "    int j;\n",
        "\t\n",
        "  Dynamically allocate memory using malloc():\n",
        "\n",
        "\n",
        "> ptr=(int*)malloc(1*sizeof(int));\n",
        "\n",
        "\n",
        "\n",
        "Ask the user to enter the  number  and store it in the variable count.\n",
        "\n",
        "\n",
        ">  printf(\"Input the number: \");\n",
        "        scanf(\"%d\", &n);\n",
        "\n",
        " Use 'while' loop and read the numbers.\n",
        " Ask the user to enter the element and store it in 'ptr' . 'ptr'  is working like an array here.\n",
        "\n",
        "The body of the loop continues until the user enters '0', in which case all figures are printed:\n",
        "\n",
        "\n",
        "> if (n==0)\n",
        "        {\n",
        "            printf(\"The array is being printed..\\n\\n\");...}\n",
        "\n",
        "Also add numbers. The array contains all the elements that the user enters.\n",
        "After the loop is completed (the user enters '0'), all numbers are stored in the variable *(ptr+j). \n",
        "\n",
        "Print the elements of array to the user.:\n",
        "\n",
        "\n",
        ">  for (j=0; j<i+1; j++)\n",
        "    {\n",
        "        printf(\"  %d  \", *(ptr+j));\n",
        "    }\n",
        "    printf(\"\\n\");\n",
        "        }\n",
        "\n"
      ]
    }
  ]
}