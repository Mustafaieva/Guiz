{
  "nbformat": 4,
  "nbformat_minor": 0,
  "metadata": {
    "colab": {
      "name": "Untitled22.ipynb",
      "version": "0.3.2",
      "provenance": [],
      "include_colab_link": true
    },
    "kernelspec": {
      "name": "python2",
      "display_name": "Python 2"
    }
  },
  "cells": [
    {
      "cell_type": "markdown",
      "metadata": {
        "id": "view-in-github",
        "colab_type": "text"
      },
      "source": [
        "<a href=\"https://colab.research.google.com/github/Mustafaieva/Quiz/blob/master/quiz3.ipynb\" target=\"_parent\"><img src=\"https://colab.research.google.com/assets/colab-badge.svg\" alt=\"Open In Colab\"/></a>"
      ]
    },
    {
      "metadata": {
        "id": "rYN3V8-LDaGL",
        "colab_type": "code",
        "colab": {}
      },
      "cell_type": "code",
      "source": [
        "#include <stdio.h>\n",
        "#include <stdlib.h>\n",
        "\n",
        "float CalculateGrade(char *a, char *b, int n)\n",
        "{\n",
        "    int right_n=0;\n",
        "    int i;\n",
        "\n",
        "    for (i=0; i<n; i++)\n",
        "    {\n",
        "        if (a[i]==b[i])\n",
        "        {\n",
        "            right_n++;\n",
        "        }\n",
        "    }\n",
        "    return ((float)right_n/(float)n)*100;\n",
        "}\n",
        "\n",
        "int main()\n",
        "{\n",
        "    int i=0;\n",
        "    char right_answer[30];\n",
        "    char wrong_answer[30];\n",
        "\n",
        "    printf(\"Enter the correct answers: \\n\");\n",
        "    scanf(\"%s\",  right_answer);\n",
        "    printf(\"Enter the answers of the student: \\n\");\n",
        "    scanf(\"%s\", wrong_answer);\n",
        "    while (right_answer[i]!=0)\n",
        "    {\n",
        "        i++;\n",
        "    }\n",
        "    printf(\"The student received a grade is %f\\n.\", CalculateGrade);\n",
        "    return 0;\n",
        "}"
      ],
      "execution_count": 0,
      "outputs": []
    },
    {
      "metadata": {
        "id": "m3bZAGh6TfI2",
        "colab_type": "text"
      },
      "cell_type": "markdown",
      "source": [
        "# Quiz 3.\n",
        "\n",
        "In the above example we  сalculated grade of Student;\n",
        "\n",
        "in function \"CalculateGrade\"  in this for loop it is clear that if the correct answer matches the student’s answer, then  the number of correct answers increases by one:\n",
        "\n",
        "\n",
        "> for (i=0; i<n; i++)\n",
        "\n",
        "    {\n",
        "        if (a[i]==b[i])\n",
        "        {\n",
        "            right_n++;\n",
        "        }\n",
        "    }\n",
        "\n",
        "and then the student’s calculated grade is returned to the 'main'  function.\n",
        "\n",
        "So in the main function we entered the correct answers and the answers of the student:\n",
        "\n",
        "> printf(\"Enter the correct answers: \\n\");\n",
        "  scanf(\"%s\",  right_answer);  \n",
        "    printf(\"Enter the answers of the student: \\n\");\n",
        "    scanf(\"%s\", wrong_answer);\n",
        "   \n",
        "   Then we perform a loop 'while'  until right_answer[i]!=0  ( the  number of correct answers is zero)\n",
        "   .\n",
        "\n",
        "> i++;        /*we increase the value of the identifier by one.*/\n",
        "\n",
        "And in the end we printed out what grade the student received.\n",
        "\n",
        "\n",
        "\n"
      ]
    }
  ]
}